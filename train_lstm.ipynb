{
 "cells": [
  {
   "cell_type": "code",
   "execution_count": 1,
   "metadata": {
    "collapsed": false
   },
   "outputs": [
    {
     "data": {
      "text/plain": [
       "<torch._C.Generator at 0x5cba810>"
      ]
     },
     "execution_count": 1,
     "metadata": {},
     "output_type": "execute_result"
    }
   ],
   "source": [
    "import torch\n",
    "import torch.autograd as autograd\n",
    "import torch.nn as nn\n",
    "import torch.nn.functional as F\n",
    "import torch.optim as optim\n",
    "\n",
    "import numpy as np\n",
    "%matplotlib inline\n",
    "\n",
    "torch.manual_seed(1)"
   ]
  },
  {
   "cell_type": "code",
   "execution_count": 2,
   "metadata": {
    "collapsed": false
   },
   "outputs": [],
   "source": [
    "## prepare training data\n",
    "\n",
    "import glob\n",
    "\n",
    "# special token\n",
    "UNKNOWN_WORD = \"<unknown>\"\n",
    "START_OF_SENTENCE = \"<SOS>\"\n",
    "END_OF_SENTENCE = \"<EOS>\"\n",
    "\n",
    "input_files = glob.glob(\"data/input/*.txt\")\n",
    "\n",
    "# view one source file as a sentence\n",
    "def get_one_sentence(file):\n",
    "    with open(file, \"r\", encoding=\"utf-8\") as fr:\n",
    "        sentence = [line[:-1] for line in fr.readlines()]\n",
    "    return sentence\n",
    "\n",
    "# training data (set of sentences)\n",
    "train_data = [[START_OF_SENTENCE] + get_one_sentence(input_file) for input_file in input_files]\n",
    "\n",
    "# target values (next words)\n",
    "train_target = [sentence[1:] + [END_OF_SENTENCE] for sentence in train_data]\n",
    "\n",
    "def get_word_to_idx_dict(sentences):\n",
    "    word_to_idx = {}\n",
    "    for sentence in sentences:\n",
    "        for word in sentence:\n",
    "            if word not in word_to_idx:\n",
    "                word_to_idx[word] = len(word_to_idx)\n",
    "    return word_to_idx\n",
    "\n",
    "# get word to index dictionary\n",
    "word_to_idx = get_word_to_idx_dict(train_data)            \n",
    "target_to_idx = get_word_to_idx_dict(train_target)    \n",
    "\n",
    "# prepare for unknown word input\n",
    "word_to_idx[UNKNOWN_WORD] = len(word_to_idx)\n",
    "\n",
    "# target word list (idx -> word)\n",
    "target_word_list = [None for i in range(len(target_to_idx))]\n",
    "for word, idx in target_to_idx.items():\n",
    "    target_word_list[idx] = word"
   ]
  },
  {
   "cell_type": "code",
   "execution_count": 3,
   "metadata": {
    "collapsed": false
   },
   "outputs": [
    {
     "data": {
      "text/plain": [
       "[('<SOS>', 'tf.variable_scope'),\n",
       " ('tf.variable_scope', 'tf.get_variable_scope'),\n",
       " ('tf.get_variable_scope', 'tf.get_variable_scope'),\n",
       " ('tf.get_variable_scope', 'tf.nn.relu'),\n",
       " ('tf.nn.relu', 'tf.layers.batch_normalization'),\n",
       " ('tf.layers.batch_normalization', 'tf.layers.conv2d'),\n",
       " ('tf.layers.conv2d', 'tf.nn.relu'),\n",
       " ('tf.nn.relu', 'tf.layers.batch_normalization'),\n",
       " ('tf.layers.batch_normalization', 'tf.layers.conv2d'),\n",
       " ('tf.layers.conv2d', 'tf.nn.relu'),\n",
       " ('tf.nn.relu', 'tf.layers.batch_normalization'),\n",
       " ('tf.layers.batch_normalization', 'tf.layers.conv2d'),\n",
       " ('tf.layers.conv2d', 'tf.nn.relu'),\n",
       " ('tf.nn.relu', 'tf.layers.batch_normalization'),\n",
       " ('tf.layers.batch_normalization', 'tf.layers.conv2d'),\n",
       " ('tf.layers.conv2d', 'tf.layers.dense'),\n",
       " ('tf.layers.dense', 'tf.reshape'),\n",
       " ('tf.reshape', 'tf.nn.sigmoi'),\n",
       " ('tf.nn.sigmoi', '<EOS>')]"
      ]
     },
     "execution_count": 3,
     "metadata": {},
     "output_type": "execute_result"
    }
   ],
   "source": [
    "# train & target example\n",
    "list(zip(train_data[1], train_target[1]))"
   ]
  },
  {
   "cell_type": "code",
   "execution_count": 7,
   "metadata": {
    "collapsed": true
   },
   "outputs": [],
   "source": [
    "def prepare_sequence(seq, idx_dict):\n",
    "    idxs = [idx_dict[w] if w in idx_dict else idx_dict[UNKNOWN_WORD]  for w in seq]\n",
    "    tensor = torch.LongTensor(idxs)\n",
    "    return autograd.Variable(tensor)\n",
    "\n",
    "def predict_topN(score, N):\n",
    "    return [target_word_list[i] for i in np.argsort(score)[::-1][:N]]"
   ]
  },
  {
   "cell_type": "code",
   "execution_count": 8,
   "metadata": {
    "collapsed": false
   },
   "outputs": [],
   "source": [
    "# reference: http://pytorch.org/tutorials/beginner/nlp/sequence_models_tutorial.html\n",
    "\n",
    "class LSTMModel(nn.Module):\n",
    "\n",
    "    def __init__(self, embedding_dim, hidden_dim, vocab_size, target_size):\n",
    "        super(LSTMModel, self).__init__()\n",
    "        self.hidden_dim = hidden_dim\n",
    "\n",
    "        self.word_embeddings = nn.Embedding(vocab_size, embedding_dim)\n",
    "\n",
    "        # The LSTM takes word embeddings as inputs, and outputs hidden states\n",
    "        # with dimensionality hidden_dim.\n",
    "        self.lstm = nn.LSTM(embedding_dim, hidden_dim)\n",
    "\n",
    "        # The linear layer that maps from hidden state space to target space\n",
    "        self.decoder = nn.Linear(hidden_dim, target_size)\n",
    "        self.hidden = self.init_hidden()\n",
    "\n",
    "    def init_hidden(self):\n",
    "        # Before we've done anything, we dont have any hidden state.\n",
    "        # Refer to the Pytorch documentation to see exactly\n",
    "        # why they have this dimensionality.\n",
    "        # The axes semantics are (num_layers, minibatch_size, hidden_dim)\n",
    "        return (autograd.Variable(torch.zeros(1, 1, self.hidden_dim)),\n",
    "                autograd.Variable(torch.zeros(1, 1, self.hidden_dim)))\n",
    "\n",
    "    def forward(self, sentence):\n",
    "        embeds = self.word_embeddings(sentence)\n",
    "        lstm_out, self.hidden = self.lstm(\n",
    "            embeds.view(len(sentence), 1, -1), self.hidden)\n",
    "        target_space = self.decoder(lstm_out.view(len(sentence), -1))\n",
    "        scores = F.log_softmax(target_space)\n",
    "        return scores\n",
    "    "
   ]
  },
  {
   "cell_type": "code",
   "execution_count": 9,
   "metadata": {
    "collapsed": false
   },
   "outputs": [],
   "source": [
    "## initialize LSTM model\n",
    "\n",
    "# parameters for LSTM model\n",
    "EMBEDDING_DIM = 32\n",
    "HIDDEN_DIM = 16\n",
    "\n",
    "# parameters for training\n",
    "EPOCHS = 10\n",
    "\n",
    "model = LSTMModel(EMBEDDING_DIM, HIDDEN_DIM, len(word_to_idx), len(target_to_idx))\n",
    "loss_function = nn.NLLLoss()\n",
    "optimizer = optim.SGD(model.parameters(), lr=0.1)"
   ]
  },
  {
   "cell_type": "code",
   "execution_count": 12,
   "metadata": {
    "collapsed": false
   },
   "outputs": [
    {
     "name": "stdout",
     "output_type": "stream",
     "text": [
      "Variable containing:\n",
      " -5.2796 -10.9009  -6.5051  ...  -12.7272 -12.8117 -13.0472\n",
      " -5.3267 -10.1179 -12.1195  ...  -12.8338 -12.8356 -13.5973\n",
      " -4.7667  -9.1524 -12.4223  ...  -12.5350 -12.6170 -13.0003\n",
      "           ...               ⋱              ...            \n",
      " -6.1656 -12.2445  -3.5532  ...  -11.4564 -11.7513 -11.6450\n",
      " -6.6516 -12.0659 -13.5046  ...  -12.6161 -12.6258 -13.2613\n",
      "-10.7545 -15.5327  -0.0075  ...  -17.5458 -17.6319 -17.3537\n",
      "[torch.FloatTensor of size 19x2750]\n",
      "\n",
      "('<SOS>', ['tf.reduce_mean', 'tf.layers.dense', 'tf.variable_scope'])\n",
      "('tf.variable_scope', ['tf.reduce_mean', 'tf.variable_scope', 'tf.layers.dense'])\n",
      "('tf.get_variable_scope', ['tf.reduce_mean', 'tf.variable_scope', 'tf.reduce_sum'])\n",
      "('tf.get_variable_scope', ['tf.variable_scope', 'tf.reduce_mean', 'tf.placeholder'])\n",
      "('tf.nn.relu', ['tf.variable_scope', 'tf.nn.relu', 'tf.layers.dense'])\n",
      "('tf.layers.batch_normalization', ['tf.variable_scope', 'tf.nn.relu', 'tf.nn.dropout'])\n",
      "('tf.layers.conv2d', ['tf.layers.dense', 'tf.layers.batch_normalization', 'tf.variable_scope'])\n",
      "('tf.nn.relu', ['tf.variable_scope', 'tf.nn.relu', 'tf.matmul'])\n",
      "('tf.layers.batch_normalization', ['tf.variable_scope', 'tf.nn.dropout', 'tf.nn.relu'])\n",
      "('tf.layers.conv2d', ['tf.layers.dense', 'tf.layers.batch_normalization', 'tf.layers.conv2d'])\n",
      "('tf.nn.relu', ['tf.variable_scope', 'tf.nn.relu', 'tf.matmul'])\n",
      "('tf.layers.batch_normalization', ['tf.variable_scope', 'tf.nn.dropout', 'tf.nn.relu'])\n",
      "('tf.layers.conv2d', ['tf.layers.batch_normalization', 'tf.layers.dense', 'tf.layers.conv2d'])\n",
      "('tf.nn.relu', ['tf.variable_scope', 'tf.nn.relu', 'tf.matmul'])\n",
      "('tf.layers.batch_normalization', ['tf.variable_scope', 'tf.layers.conv2d', 'tf.layers.batch_normalization'])\n",
      "('tf.layers.conv2d', ['tf.layers.batch_normalization', 'tf.layers.dense', 'tf.layers.conv2d'])\n",
      "('tf.layers.dense', ['tf.layers.dense', 'tf.variable_scope', 'tf.matmul'])\n",
      "('tf.reshape', ['tf.layers.dense', 'tf.variable_scope', 'tf.reduce_mean'])\n",
      "('tf.nn.sigmoi', ['<EOS>', 'tf.matmul', 'tf.reduce_mean'])\n"
     ]
    }
   ],
   "source": [
    "# See what the scores are before training\n",
    "# Note that element i,j of the output is the score for tag j for word i.\n",
    "inputs = prepare_sequence(train_data[1], word_to_idx)\n",
    "scores = model(inputs)\n",
    "print(scores)\n",
    "\n",
    "# top N predictions for each word (before training)\n",
    "for i,s in enumerate(scores.data.numpy()):\n",
    "    print((train_data[1][i], predict_topN(s, 3)))"
   ]
  },
  {
   "cell_type": "code",
   "execution_count": 86,
   "metadata": {
    "collapsed": false
   },
   "outputs": [
    {
     "name": "stdout",
     "output_type": "stream",
     "text": [
      "0 th epoch done. 238.510642 sec\n",
      "1 th epoch done. 483.055629 sec\n",
      "2 th epoch done. 728.519669 sec\n",
      "3 th epoch done. 970.186491 sec\n",
      "4 th epoch done. 1213.355400 sec\n",
      "5 th epoch done. 1455.156230 sec\n",
      "6 th epoch done. 1693.961889 sec\n",
      "7 th epoch done. 1928.861325 sec\n",
      "8 th epoch done. 2163.480744 sec\n",
      "9 th epoch done. 2391.612792 sec\n",
      "Wall time: 39min 51s\n"
     ]
    }
   ],
   "source": [
    "%%time\n",
    "import time\n",
    "st = time.time()\n",
    "\n",
    "count = 0\n",
    "for epoch in range(EPOCHS): \n",
    "    for sentence, next_word in zip(train_data, train_target):\n",
    "        # Step 1. Remember that Pytorch accumulates gradients.\n",
    "        # We need to clear them out before each instance\n",
    "        model.zero_grad()\n",
    "\n",
    "        # Also, we need to clear out the hidden state of the LSTM,\n",
    "        # detaching it from its history on the last instance.\n",
    "        model.hidden = model.init_hidden()\n",
    "\n",
    "        # Step 2. Get our inputs ready for the network, that is, turn them into\n",
    "        # Variables of word indices.\n",
    "        sentence_in = prepare_sequence(sentence, word_to_idx)\n",
    "        targets = prepare_sequence(next_word, target_to_idx)\n",
    "\n",
    "        # Step 3. Run our forward pass.\n",
    "        scores = model(sentence_in)\n",
    "\n",
    "        # Step 4. Compute the loss, gradients, and update the parameters by\n",
    "        #  calling optimizer.step()\n",
    "        loss = loss_function(scores, targets)\n",
    "        loss.backward()\n",
    "        optimizer.step()\n",
    "        \n",
    "        #if count % 100 == 0:\n",
    "        #   print(loss.data[0])\n",
    "        \n",
    "        count += 1\n",
    "        \n",
    "    print(\"%d th epoch done. %f sec\" % (epoch, time.time() - st))"
   ]
  },
  {
   "cell_type": "code",
   "execution_count": 87,
   "metadata": {
    "collapsed": false
   },
   "outputs": [],
   "source": [
    "# serialize model\n",
    "torch.save(model.state_dict(), 'model/model_lstm.pth')"
   ]
  },
  {
   "cell_type": "code",
   "execution_count": 10,
   "metadata": {
    "collapsed": false,
    "scrolled": true
   },
   "outputs": [],
   "source": [
    "# load trained model ()\n",
    "\n",
    "param = torch.load('model/model_lstm.pth')\n",
    "model = LSTMModel(EMBEDDING_DIM, HIDDEN_DIM, len(word_to_idx), len(target_to_idx)) \n",
    "model.load_state_dict(param)"
   ]
  },
  {
   "cell_type": "code",
   "execution_count": 11,
   "metadata": {
    "collapsed": false
   },
   "outputs": [
    {
     "name": "stdout",
     "output_type": "stream",
     "text": [
      "('<SOS>', ['tf.Session', 'tf.placeholder', 'tf.variable_scope'])\n",
      "('tf.variable_scope', ['tf.variable_scope', 'tf.placeholder', 'tf.get_variable'])\n",
      "('tf.get_variable_scope', ['tf.variable_scope', 'tf.placeholder', 'tf.reduce_mean'])\n",
      "('tf.get_variable_scope', ['tf.variable_scope', 'tf.layers.dense', 'tf.placeholder'])\n",
      "('tf.nn.relu', ['tf.variable_scope', 'tf.layers.dense', 'tf.nn.relu'])\n",
      "('tf.layers.batch_normalization', ['tf.variable_scope', 'tf.layers.dense', 'tf.nn.relu'])\n",
      "('tf.layers.conv2d', ['tf.layers.dense', 'tf.variable_scope', 'tf.layers.batch_normalization'])\n",
      "('tf.nn.relu', ['tf.variable_scope', 'tf.nn.relu', 'tf.matmul'])\n",
      "('tf.layers.batch_normalization', ['tf.variable_scope', 'tf.nn.dropout', 'tf.nn.relu'])\n",
      "('tf.layers.conv2d', ['tf.layers.dense', 'tf.layers.batch_normalization', 'tf.layers.conv2d'])\n",
      "('tf.nn.relu', ['tf.variable_scope', 'tf.nn.relu', 'tf.matmul'])\n",
      "('tf.layers.batch_normalization', ['tf.variable_scope', 'tf.nn.dropout', 'tf.nn.relu'])\n",
      "('tf.layers.conv2d', ['tf.layers.batch_normalization', 'tf.layers.dense', 'tf.layers.conv2d'])\n",
      "('tf.nn.relu', ['tf.variable_scope', 'tf.nn.relu', 'tf.matmul'])\n",
      "('tf.layers.batch_normalization', ['tf.variable_scope', 'tf.layers.conv2d', 'tf.layers.batch_normalization'])\n",
      "('tf.layers.conv2d', ['tf.layers.batch_normalization', 'tf.layers.dense', 'tf.layers.conv2d'])\n",
      "('tf.layers.dense', ['tf.layers.dense', 'tf.variable_scope', 'tf.matmul'])\n",
      "('tf.reshape', ['tf.layers.dense', 'tf.variable_scope', 'tf.reduce_mean'])\n",
      "('tf.nn.sigmoi', ['<EOS>', 'tf.matmul', 'tf.reduce_mean'])\n"
     ]
    }
   ],
   "source": [
    "sID = 1\n",
    "\n",
    "inputs = prepare_sequence(train_data[sID], word_to_idx)\n",
    "scores = model(inputs)\n",
    "\n",
    "# top N predictions for each word (after training)\n",
    "for i,s in enumerate(scores.data.numpy()):\n",
    "    print((train_data[sID][i], predict_topN(s, 3)))"
   ]
  },
  {
   "cell_type": "code",
   "execution_count": null,
   "metadata": {
    "collapsed": true
   },
   "outputs": [],
   "source": []
  }
 ],
 "metadata": {
  "anaconda-cloud": {},
  "kernelspec": {
   "display_name": "Python [conda root]",
   "language": "python",
   "name": "conda-root-py"
  },
  "language_info": {
   "codemirror_mode": {
    "name": "ipython",
    "version": 3
   },
   "file_extension": ".py",
   "mimetype": "text/x-python",
   "name": "python",
   "nbconvert_exporter": "python",
   "pygments_lexer": "ipython3",
   "version": "3.5.2"
  }
 },
 "nbformat": 4,
 "nbformat_minor": 1
}
