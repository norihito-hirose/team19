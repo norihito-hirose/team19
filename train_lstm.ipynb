{
 "cells": [
  {
   "cell_type": "code",
   "execution_count": 1,
   "metadata": {},
   "outputs": [
    {
     "data": {
      "text/plain": [
       "<torch._C.Generator at 0x10df25c18>"
      ]
     },
     "execution_count": 1,
     "metadata": {},
     "output_type": "execute_result"
    }
   ],
   "source": [
    "import torch\n",
    "import torch.autograd as autograd\n",
    "import torch.nn as nn\n",
    "import torch.nn.functional as F\n",
    "import torch.optim as optim\n",
    "\n",
    "import numpy as np\n",
    "%matplotlib inline\n",
    "\n",
    "torch.manual_seed(1)"
   ]
  },
  {
   "cell_type": "code",
   "execution_count": 2,
   "metadata": {},
   "outputs": [],
   "source": [
    "## prepare training data\n",
    "\n",
    "import glob\n",
    "\n",
    "# special token\n",
    "UNKNOWN_WORD = \"<unknown>\"\n",
    "START_OF_SENTENCE = \"<SOS>\"\n",
    "END_OF_SENTENCE = \"<EOS>\"\n",
    "\n",
    "input_files = glob.glob(\"data/input/*.txt\")\n",
    "\n",
    "# view one source file as a sentence\n",
    "def get_one_sentence(file):\n",
    "    with open(file, \"r\", encoding=\"utf-8\") as fr:\n",
    "        sentence = [line[:-1] for line in fr.readlines()]\n",
    "    return sentence\n",
    "\n",
    "# training data (set of sentences)\n",
    "train_data = [[START_OF_SENTENCE] + get_one_sentence(input_file) for input_file in input_files]\n",
    "\n",
    "# target values (next words)\n",
    "train_target = [sentence[1:] + [END_OF_SENTENCE] for sentence in train_data]\n",
    "\n",
    "def get_word_to_idx_dict(sentences):\n",
    "    word_to_idx = {}\n",
    "    for sentence in sentences:\n",
    "        for word in sentence:\n",
    "            if word not in word_to_idx:\n",
    "                word_to_idx[word] = len(word_to_idx)\n",
    "    return word_to_idx\n",
    "\n",
    "# get word to index dictionary\n",
    "word_to_idx = get_word_to_idx_dict(train_data)            \n",
    "target_to_idx = get_word_to_idx_dict(train_target)    \n",
    "\n",
    "# prepare for unknown word input\n",
    "word_to_idx[UNKNOWN_WORD] = len(word_to_idx)\n",
    "\n",
    "# target word list (idx -> word)\n",
    "target_word_list = [None for i in range(len(target_to_idx))]\n",
    "for word, idx in target_to_idx.items():\n",
    "    target_word_list[idx] = word"
   ]
  },
  {
   "cell_type": "code",
   "execution_count": 3,
   "metadata": {},
   "outputs": [
    {
     "data": {
      "text/plain": [
       "[('<SOS>', 'tf.expand_dims'),\n",
       " ('tf.expand_dims', 'tf.expand_dims'),\n",
       " ('tf.expand_dims', 'tf.tile'),\n",
       " ('tf.tile', 'tf.tile'),\n",
       " ('tf.tile', 'tf.zeros_like'),\n",
       " ('tf.zeros_like', 'tf.wher'),\n",
       " ('tf.wher', '<EOS>')]"
      ]
     },
     "execution_count": 3,
     "metadata": {},
     "output_type": "execute_result"
    }
   ],
   "source": [
    "# train & target example\n",
    "list(zip(train_data[1], train_target[1]))"
   ]
  },
  {
   "cell_type": "code",
   "execution_count": 4,
   "metadata": {
    "collapsed": true
   },
   "outputs": [],
   "source": [
    "def prepare_sequence(seq, idx_dict):\n",
    "    idxs = [idx_dict[w] if w in idx_dict else idx_dict[UNKNOWN_WORD]  for w in seq]\n",
    "    tensor = torch.LongTensor(idxs)\n",
    "    return autograd.Variable(tensor)\n",
    "\n",
    "def predict_topN(score, N):\n",
    "    return [target_word_list[i] for i in np.argsort(score)[::-1][:N]]"
   ]
  },
  {
   "cell_type": "code",
   "execution_count": 5,
   "metadata": {},
   "outputs": [],
   "source": [
    "# reference: http://pytorch.org/tutorials/beginner/nlp/sequence_models_tutorial.html\n",
    "\n",
    "class LSTMModel(nn.Module):\n",
    "\n",
    "    def __init__(self, embedding_dim, hidden_dim, vocab_size, target_size):\n",
    "        super(LSTMModel, self).__init__()\n",
    "        self.hidden_dim = hidden_dim\n",
    "\n",
    "        self.word_embeddings = nn.Embedding(vocab_size, embedding_dim)\n",
    "\n",
    "        # The LSTM takes word embeddings as inputs, and outputs hidden states\n",
    "        # with dimensionality hidden_dim.\n",
    "        self.lstm = nn.LSTM(embedding_dim, hidden_dim)\n",
    "\n",
    "        # The linear layer that maps from hidden state space to target space\n",
    "        self.decoder = nn.Linear(hidden_dim, target_size)\n",
    "        self.hidden = self.init_hidden()\n",
    "\n",
    "    def init_hidden(self):\n",
    "        # Before we've done anything, we dont have any hidden state.\n",
    "        # Refer to the Pytorch documentation to see exactly\n",
    "        # why they have this dimensionality.\n",
    "        # The axes semantics are (num_layers, minibatch_size, hidden_dim)\n",
    "        return (autograd.Variable(torch.zeros(1, 1, self.hidden_dim)),\n",
    "                autograd.Variable(torch.zeros(1, 1, self.hidden_dim)))\n",
    "\n",
    "    def forward(self, sentence):\n",
    "        embeds = self.word_embeddings(sentence)\n",
    "        lstm_out, self.hidden = self.lstm(\n",
    "            embeds.view(len(sentence), 1, -1), self.hidden)\n",
    "        target_space = self.decoder(lstm_out.view(len(sentence), -1))\n",
    "        scores = F.log_softmax(target_space)\n",
    "        return scores\n",
    "    "
   ]
  },
  {
   "cell_type": "code",
   "execution_count": 6,
   "metadata": {},
   "outputs": [],
   "source": [
    "## initialize LSTM model\n",
    "\n",
    "# parameters for LSTM model\n",
    "EMBEDDING_DIM = 32\n",
    "HIDDEN_DIM = 16\n",
    "\n",
    "# parameters for training\n",
    "EPOCHS = 10\n",
    "\n",
    "model = LSTMModel(EMBEDDING_DIM, HIDDEN_DIM, len(word_to_idx), len(target_to_idx))\n",
    "loss_function = nn.NLLLoss()\n",
    "optimizer = optim.SGD(model.parameters(), lr=0.1)"
   ]
  },
  {
   "cell_type": "code",
   "execution_count": 7,
   "metadata": {},
   "outputs": [
    {
     "name": "stdout",
     "output_type": "stream",
     "text": [
      "Variable containing:\n",
      "-7.8149 -8.0807 -7.7972  ...  -7.9264 -7.8794 -7.7138\n",
      "-7.7853 -7.9886 -7.9658  ...  -7.8700 -8.1554 -7.8417\n",
      "-7.8079 -7.9975 -8.0047  ...  -7.8249 -8.2380 -7.8530\n",
      "          ...             ⋱             ...          \n",
      "-7.8615 -8.1176 -7.8774  ...  -7.9472 -7.9563 -7.8143\n",
      "-7.9212 -7.9621 -7.8530  ...  -7.9641 -7.8709 -7.8023\n",
      "-7.8679 -8.0431 -7.7991  ...  -8.0582 -7.9087 -7.7586\n",
      "[torch.FloatTensor of size 7x2901]\n",
      "\n",
      "('<SOS>', ['tf.contrib.rnn.LSTMStateTuple', 'tf.baselines.ppo', 'tf.one_ho'])\n",
      "('tf.expand_dims', ['tf.contrib.legacy_seq2seq.model_with_buckets', 'tf.RegisterShape', 'tf.contrib.rnn.LSTMStateTuple'])\n",
      "('tf.expand_dims', ['tf.contrib.distribution', 'tf.contrib.legacy_seq2seq.model_with_buckets', 'tf.RegisterShape'])\n",
      "('tf.tile', ['tf.contrib.distribution', 'tf.loggin', 'tf.nn.atrous_conv2d'])\n",
      "('tf.tile', ['tf.nn.atrous_conv2d', 'tf.loggin', 'tf.assign_ad'])\n",
      "('tf.zeros_like', ['tf.nn.atrous_conv2d', 'tf.sys.stdi', 'tf.truncated_normal_initialize'])\n",
      "('tf.wher', ['tf.nn.atrous_conv2d', 'tf.app.flags.FLAGS.output_labels', 'tf.contrib.losses.sum_of_squares'])\n"
     ]
    }
   ],
   "source": [
    "# See what the scores are before training\n",
    "# Note that element i,j of the output is the score for tag j for word i.\n",
    "inputs = prepare_sequence(train_data[1], word_to_idx)\n",
    "scores = model(inputs)\n",
    "print(scores)\n",
    "\n",
    "# top N predictions for each word (before training)\n",
    "for i,s in enumerate(scores.data.numpy()):\n",
    "    print((train_data[1][i], predict_topN(s, 3)))"
   ]
  },
  {
   "cell_type": "code",
   "execution_count": 8,
   "metadata": {},
   "outputs": [
    {
     "name": "stdout",
     "output_type": "stream",
     "text": [
      "0 th epoch done. 528.268389 sec\n",
      "1 th epoch done. 1075.930897 sec\n",
      "2 th epoch done. 1682.027620 sec\n",
      "3 th epoch done. 2199.040442 sec\n",
      "4 th epoch done. 2699.891764 sec\n",
      "5 th epoch done. 3374.694988 sec\n",
      "6 th epoch done. 3997.665820 sec\n",
      "7 th epoch done. 4652.084209 sec\n",
      "8 th epoch done. 5221.620618 sec\n",
      "9 th epoch done. 5713.431751 sec\n",
      "CPU times: user 2h 35min 23s, sys: 5min 52s, total: 2h 41min 16s\n",
      "Wall time: 1h 35min 13s\n"
     ]
    }
   ],
   "source": [
    "%%time\n",
    "import time\n",
    "st = time.time()\n",
    "\n",
    "count = 0\n",
    "for epoch in range(EPOCHS): \n",
    "    for sentence, next_word in zip(train_data, train_target):\n",
    "        # Step 1. Remember that Pytorch accumulates gradients.\n",
    "        # We need to clear them out before each instance\n",
    "        model.zero_grad()\n",
    "\n",
    "        # Also, we need to clear out the hidden state of the LSTM,\n",
    "        # detaching it from its history on the last instance.\n",
    "        model.hidden = model.init_hidden()\n",
    "\n",
    "        # Step 2. Get our inputs ready for the network, that is, turn them into\n",
    "        # Variables of word indices.\n",
    "        sentence_in = prepare_sequence(sentence, word_to_idx)\n",
    "        targets = prepare_sequence(next_word, target_to_idx)\n",
    "\n",
    "        # Step 3. Run our forward pass.\n",
    "        scores = model(sentence_in)\n",
    "\n",
    "        # Step 4. Compute the loss, gradients, and update the parameters by\n",
    "        #  calling optimizer.step()\n",
    "        loss = loss_function(scores, targets)\n",
    "        loss.backward()\n",
    "        optimizer.step()\n",
    "        \n",
    "        #if count % 100 == 0:\n",
    "        #   print(loss.data[0])\n",
    "        \n",
    "        count += 1\n",
    "        \n",
    "    print(\"%d th epoch done. %f sec\" % (epoch, time.time() - st))"
   ]
  },
  {
   "cell_type": "code",
   "execution_count": 14,
   "metadata": {},
   "outputs": [],
   "source": [
    "# serialize model\n",
    "torch.save(model.state_dict(), 'model/model_lstm.pth')\n",
    "\n",
    "np.save('model/word_to_idx.npy', word_to_idx)\n",
    "np.save('model/target_to_idx.npy', target_to_idx)"
   ]
  },
  {
   "cell_type": "code",
   "execution_count": 15,
   "metadata": {
    "scrolled": true
   },
   "outputs": [],
   "source": [
    "# load trained model ()\n",
    "\n",
    "word_to_idx = np.load('model/word_to_idx.npy').item()\n",
    "target_to_idx = np.load('model/target_to_idx.npy').item()\n",
    "\n",
    "param = torch.load('model/model_lstm.pth')\n",
    "model = LSTMModel(EMBEDDING_DIM, HIDDEN_DIM, len(word_to_idx), len(target_to_idx)) \n",
    "model.load_state_dict(param)"
   ]
  },
  {
   "cell_type": "code",
   "execution_count": 16,
   "metadata": {},
   "outputs": [
    {
     "name": "stdout",
     "output_type": "stream",
     "text": [
      "('<SOS>', ['tf.test.TestCase', 'tf.contrib.slim', 'tf.placeholder'])\n",
      "('tf.expand_dims', ['tf.constant', 'tf.placeholder', 'tf.expand_dims'])\n",
      "('tf.expand_dims', ['tf.constant', 'tf.expand_dims', 'tf.reshape'])\n",
      "('tf.tile', ['tf.cast', 'tf.constant', 'tf.expand_dims'])\n",
      "('tf.tile', ['tf.cast', 'tf.reshape', 'tf.shape'])\n",
      "('tf.zeros_like', ['tf.reduce_mean', 'tf.shape', 'tf.reduce_sum'])\n",
      "('tf.wher', ['<EOS>', 'tf.reduce_mean', 'tf.reduce_sum'])\n"
     ]
    }
   ],
   "source": [
    "sID = 1\n",
    "\n",
    "inputs = prepare_sequence(train_data[sID], word_to_idx)\n",
    "scores = model(inputs)\n",
    "\n",
    "# top N predictions for each word (after training)\n",
    "for i,s in enumerate(scores.data.numpy()):\n",
    "    print((train_data[sID][i], predict_topN(s, 3)))"
   ]
  },
  {
   "cell_type": "code",
   "execution_count": null,
   "metadata": {
    "collapsed": true
   },
   "outputs": [],
   "source": []
  }
 ],
 "metadata": {
  "anaconda-cloud": {},
  "kernelspec": {
   "display_name": "Python 3",
   "language": "python",
   "name": "python3"
  },
  "language_info": {
   "codemirror_mode": {
    "name": "ipython",
    "version": 3
   },
   "file_extension": ".py",
   "mimetype": "text/x-python",
   "name": "python",
   "nbconvert_exporter": "python",
   "pygments_lexer": "ipython3",
   "version": "3.6.3"
  }
 },
 "nbformat": 4,
 "nbformat_minor": 1
}
